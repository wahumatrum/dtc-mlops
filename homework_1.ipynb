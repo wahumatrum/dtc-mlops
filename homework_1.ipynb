# %%
import pyarrow

# %%
import pandas as pd
from sklearn.feature_extraction import DictVectorizer
from sklearn.linear_model import LinearRegression
from sklearn.metrics import mean_squared_error
import numpy as np

# Load the dataset for January 2022
df = pd.read_parquet('./data/yellow_tripdata_2022-01.parquet')

df.shape[1]  # To check the number of columns
df.columns

# %%

df['duration'] = df.tpep_dropoff_datetime - df.tpep_pickup_datetime
df['duration'] = df.duration.dt.total_seconds() / 60

# Calculating standard deviation of the trip duration
df.duration.std()


# %%

# Filter out duration outliers
old_len = len(df)
df = df[(df.duration >= 1) & (df.duration <= 60)].copy()

# Fraction of the records left
len(df) / old_len


# %%
categorical = ['PULocationID', 'DOLocationID']

df[categorical] = df[categorical].fillna(-1).astype('int')

df[categorical] = df[categorical].astype('str')

train_dicts = df[categorical].to_dict(orient='records')

dv = DictVectorizer()
X_train = dv.fit_transform(train_dicts) 

X_train.shape


# %%

y_train = df.duration.values

lr = LinearRegression()
lr.fit(X_train, y_train)

y_pred = lr.predict(X_train)

# RMSE on train
np.sqrt(mean_squared_error(y_train, y_pred))


# %%
categorical = ['PULocationID', 'DOLocationID']

def read_data(filename):
    df = pd.read_parquet(filename)
    
    df['duration'] = df.dropoff_datetime - df.pickup_datetime
    df['duration'] = df.duration.dt.total_seconds() / 60

    df = df[(df.duration >= 1) & (df.duration <= 60)].copy()

    df[categorical] = df[categorical].fillna(-1).astype('int').astype('str')
    
    return df

df_val = read_data('./data/yellow_tripdata_2022-02.parquet')

val_dicts = df_val[categorical].to_dict(orient='records')

X_val = dv.transform(val_dicts) 

y_pred = lr.predict(X_val)

y_val = df_val.duration.values

mean_squared_error(y_val, y_pred, squared=False)



# %%


# Read February 2022 data and apply the model on it
df_val = pd.read_parquet('./data/yellow_tripdata_2022-02.parquet')


# %%
df_val.duration = df_val.tpep_dropoff_datetime - df_val.tpep_pickup_datetime

# %%

val_dicts = df_val[categorical].to_dict(orient='records')

X_val = dv.transform(val_dicts) 

y_val = df_val.duration.values

y_pred = lr.predict(X_val)

# RMSE on validation
np.sqrt(mean_squared_error(y_val.astype(float), y_pred))


# %%



